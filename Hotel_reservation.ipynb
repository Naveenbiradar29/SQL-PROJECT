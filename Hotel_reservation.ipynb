{
 "cells": [
  {
   "cell_type": "code",
   "execution_count": 19,
   "id": "92bee038",
   "metadata": {},
   "outputs": [
    {
     "name": "stdout",
     "output_type": "stream",
     "text": [
      "Requirement already satisfied: mysql-connector-python in c:\\users\\hp\\anaconda3\\lib\\site-packages (8.2.0)\n",
      "Requirement already satisfied: protobuf<=4.21.12,>=4.21.1 in c:\\users\\hp\\anaconda3\\lib\\site-packages (from mysql-connector-python) (4.21.12)\n",
      "Note: you may need to restart the kernel to use updated packages.\n"
     ]
    }
   ],
   "source": [
    "pip install mysql-connector-python"
   ]
  },
  {
   "cell_type": "code",
   "execution_count": 20,
   "id": "9773c1dc",
   "metadata": {},
   "outputs": [],
   "source": [
    "import mysql.connector"
   ]
  },
  {
   "cell_type": "code",
   "execution_count": 21,
   "id": "c3f4d9f0",
   "metadata": {},
   "outputs": [
    {
     "name": "stdout",
     "output_type": "stream",
     "text": [
      "<mysql.connector.connection_cext.CMySQLConnection object at 0x000001FB4B789CD0>\n"
     ]
    }
   ],
   "source": [
    "data=mysql.connector.connect(\n",
    "        host=\"localhost\",\n",
    "        user=\"root\",\n",
    "        password='14302@Omkar')\n",
    "print(data)"
   ]
  },
  {
   "cell_type": "code",
   "execution_count": 22,
   "id": "e97321a4",
   "metadata": {},
   "outputs": [
    {
     "data": {
      "text/plain": [
       "<mysql.connector.cursor_cext.CMySQLCursor at 0x1fb4cb213d0>"
      ]
     },
     "execution_count": 22,
     "metadata": {},
     "output_type": "execute_result"
    }
   ],
   "source": [
    "mydb=data.cursor()\n",
    "mydb"
   ]
  },
  {
   "cell_type": "code",
   "execution_count": 5,
   "id": "d170ac4d",
   "metadata": {},
   "outputs": [],
   "source": [
    "mydb.execute(\"create database Hotel_Reservation\")"
   ]
  },
  {
   "cell_type": "code",
   "execution_count": 23,
   "id": "0e429202",
   "metadata": {},
   "outputs": [
    {
     "name": "stdout",
     "output_type": "stream",
     "text": [
      "('database1',)\n",
      "('hotel_reservation',)\n",
      "('information_schema',)\n",
      "('mydata',)\n",
      "('mysql',)\n",
      "('naveendb',)\n",
      "('onlinestore',)\n",
      "('performance_schema',)\n",
      "('sys',)\n"
     ]
    }
   ],
   "source": [
    "mydb.execute(\"show databases\")\n",
    "\n",
    "for x in mydb:\n",
    "    print(x)"
   ]
  },
  {
   "cell_type": "code",
   "execution_count": 3,
   "id": "e9be64cc",
   "metadata": {},
   "outputs": [],
   "source": [
    "import mysql.connector"
   ]
  },
  {
   "cell_type": "code",
   "execution_count": 4,
   "id": "bca133bd",
   "metadata": {},
   "outputs": [
    {
     "name": "stdout",
     "output_type": "stream",
     "text": [
      "<mysql.connector.connection_cext.CMySQLConnection object at 0x0000015C70BB4210>\n"
     ]
    }
   ],
   "source": [
    "data=mysql.connector.connect(\n",
    "        host=\"localhost\",\n",
    "        user=\"root\",\n",
    "        password='14302@Omkar',\n",
    "        database='Hotel_Reservation')\n",
    "print(data)"
   ]
  },
  {
   "cell_type": "code",
   "execution_count": 5,
   "id": "8ed36a0a",
   "metadata": {},
   "outputs": [
    {
     "data": {
      "text/plain": [
       "<mysql.connector.cursor_cext.CMySQLCursor at 0x15c7030bd50>"
      ]
     },
     "execution_count": 5,
     "metadata": {},
     "output_type": "execute_result"
    }
   ],
   "source": [
    "mydb=data.cursor()\n",
    "mydb"
   ]
  },
  {
   "cell_type": "code",
   "execution_count": 28,
   "id": "1ec3aaf7",
   "metadata": {},
   "outputs": [],
   "source": [
    "mydb.execute(\"create table Rooms(room_number int primary key,room_type varchar(50) not null,rate decimal(10,2) not null,capacity int not null)\")"
   ]
  },
  {
   "cell_type": "code",
   "execution_count": 5,
   "id": "9f09d031",
   "metadata": {},
   "outputs": [
    {
     "name": "stdout",
     "output_type": "stream",
     "text": [
      "('rooms',)\n"
     ]
    }
   ],
   "source": [
    "mydb.execute(\"show tables\")\n",
    "\n",
    "for x in mydb:\n",
    "    print(x)"
   ]
  },
  {
   "cell_type": "code",
   "execution_count": 6,
   "id": "79784fa7",
   "metadata": {},
   "outputs": [
    {
     "name": "stdout",
     "output_type": "stream",
     "text": [
      "3 rows inserted\n"
     ]
    }
   ],
   "source": [
    "sql=\"insert into Rooms(room_number,room_type,rate,capacity)values(%s,%s,%s,%s)\"\n",
    "val=[\n",
    "    (100,\"standard\",999,2),\n",
    "    (102,\"deluxe\",1999,3),\n",
    "    (103,\"suite\",2500,4)\n",
    "]\n",
    "mydb.executemany(sql,val)\n",
    "data.commit()\n",
    "print(mydb.rowcount,\"rows inserted\")"
   ]
  },
  {
   "cell_type": "code",
   "execution_count": 7,
   "id": "9ae25fbb",
   "metadata": {},
   "outputs": [
    {
     "name": "stdout",
     "output_type": "stream",
     "text": [
      "(100, 'standard', Decimal('999.00'), 2)\n",
      "(102, 'deluxe', Decimal('1999.00'), 3)\n",
      "(103, 'suite', Decimal('2500.00'), 4)\n"
     ]
    }
   ],
   "source": [
    "mydb.execute(\"select * from Rooms\")\n",
    "a=mydb.fetchall()\n",
    "for x in a:\n",
    "    print(x)"
   ]
  },
  {
   "cell_type": "code",
   "execution_count": 8,
   "id": "b9036ac5",
   "metadata": {},
   "outputs": [
    {
     "data": {
      "text/plain": [
       "(100, 'standard', Decimal('999.00'), 2)"
      ]
     },
     "execution_count": 8,
     "metadata": {},
     "output_type": "execute_result"
    }
   ],
   "source": [
    "mydb.execute(\"select * from Rooms\")\n",
    "\n",
    "a=mydb.fetchone()\n",
    "a"
   ]
  },
  {
   "cell_type": "code",
   "execution_count": 4,
   "id": "2a6757d3",
   "metadata": {},
   "outputs": [
    {
     "data": {
      "text/plain": [
       "[(100, 'standard', Decimal('999.00'), 2)]"
      ]
     },
     "execution_count": 4,
     "metadata": {},
     "output_type": "execute_result"
    }
   ],
   "source": [
    "mydb=data.cursor()\n",
    "mydb.execute(\"select * from Rooms limit 1\")\n",
    "res=mydb.fetchall()\n",
    "res\n"
   ]
  },
  {
   "cell_type": "code",
   "execution_count": 5,
   "id": "37c3402f",
   "metadata": {},
   "outputs": [
    {
     "name": "stdout",
     "output_type": "stream",
     "text": [
      "(102, 'deluxe', Decimal('1999.00'), 3)\n"
     ]
    }
   ],
   "source": [
    "mydb=data.cursor()\n",
    "mydb.execute(\"select * from Rooms where room_number=102\")\n",
    "res=mydb.fetchall()\n",
    "for x in res:\n",
    "    print(x)"
   ]
  },
  {
   "cell_type": "code",
   "execution_count": 6,
   "id": "462bff5b",
   "metadata": {},
   "outputs": [
    {
     "name": "stdout",
     "output_type": "stream",
     "text": [
      "1 records updated\n"
     ]
    }
   ],
   "source": [
    "mydb=data.cursor()\n",
    "mydb.execute(\"update Rooms set room_number=105 where rate=1999\")\n",
    "print(mydb.rowcount,\"records updated\")"
   ]
  },
  {
   "cell_type": "code",
   "execution_count": 7,
   "id": "be5a76a9",
   "metadata": {},
   "outputs": [
    {
     "data": {
      "text/plain": [
       "(105, 'deluxe', Decimal('1999.00'), 3)"
      ]
     },
     "execution_count": 7,
     "metadata": {},
     "output_type": "execute_result"
    }
   ],
   "source": [
    "mydb=data.cursor()\n",
    "mydb.execute(\"select * from Rooms limit 1 offset 2\")\n",
    "res=mydb.fetchone()\n",
    "res"
   ]
  },
  {
   "cell_type": "markdown",
   "id": "38ff44c3",
   "metadata": {},
   "source": [
    "# guest table"
   ]
  },
  {
   "cell_type": "code",
   "execution_count": 3,
   "id": "485cd1ce",
   "metadata": {},
   "outputs": [],
   "source": [
    "import mysql.connector"
   ]
  },
  {
   "cell_type": "code",
   "execution_count": 4,
   "id": "34a8fe17",
   "metadata": {},
   "outputs": [
    {
     "name": "stdout",
     "output_type": "stream",
     "text": [
      "<mysql.connector.connection_cext.CMySQLConnection object at 0x000001798EACE610>\n"
     ]
    }
   ],
   "source": [
    "data=mysql.connector.connect(\n",
    "        host=\"localhost\",\n",
    "        user=\"root\",\n",
    "        password='14302@Omkar',\n",
    "        database='Hotel_reservation')\n",
    "print(data)"
   ]
  },
  {
   "cell_type": "code",
   "execution_count": 5,
   "id": "6b4a711c",
   "metadata": {},
   "outputs": [],
   "source": [
    "mydb=data.cursor()"
   ]
  },
  {
   "cell_type": "code",
   "execution_count": 11,
   "id": "3882ab28",
   "metadata": {},
   "outputs": [],
   "source": [
    "mydb.execute(\"create table Guests(guest_id int primary key,guest_name varchar(100) not null,email varchar(200) unique,phone_number varchar(20))\")"
   ]
  },
  {
   "cell_type": "code",
   "execution_count": 12,
   "id": "d22272bc",
   "metadata": {},
   "outputs": [
    {
     "name": "stdout",
     "output_type": "stream",
     "text": [
      "('guests',)\n",
      "('rooms',)\n"
     ]
    }
   ],
   "source": [
    "mydb.execute(\"show tables\")\n",
    "\n",
    "for x in mydb:\n",
    "    print(x)"
   ]
  },
  {
   "cell_type": "code",
   "execution_count": 13,
   "id": "275a80f1",
   "metadata": {},
   "outputs": [
    {
     "name": "stdout",
     "output_type": "stream",
     "text": [
      "3 rows inserted\n"
     ]
    }
   ],
   "source": [
    "sql=\"insert into guests(guest_id,guest_name,email,phone_number)values(%s,%s,%s,%s)\"\n",
    "val=[\n",
    "     (1,\"ram\",\"ram@email.com\",123456789),\n",
    "     (2,\"raja\",\"raja@email.com\",98765432),\n",
    "     (3,\"akash\",\"akash@email.com\",53890262)\n",
    "]\n",
    "mydb.executemany(sql,val)\n",
    "data.commit()\n",
    "print(mydb.rowcount,\"rows inserted\")"
   ]
  },
  {
   "cell_type": "code",
   "execution_count": 14,
   "id": "9ac36693",
   "metadata": {},
   "outputs": [
    {
     "name": "stdout",
     "output_type": "stream",
     "text": [
      "(1, 'ram', 'ram@email.com', '123456789')\n",
      "(2, 'raja', 'raja@email.com', '98765432')\n",
      "(3, 'akash', 'akash@email.com', '53890262')\n"
     ]
    }
   ],
   "source": [
    "mydb.execute(\"select * from guests\")\n",
    "a=mydb.fetchall()  #fetchall() is used to get the all records from table\n",
    "\n",
    "for x in a:\n",
    "    print(x)"
   ]
  },
  {
   "cell_type": "code",
   "execution_count": 15,
   "id": "e3f07048",
   "metadata": {},
   "outputs": [
    {
     "data": {
      "text/plain": [
       "(1, 'ram', 'ram@email.com', '123456789')"
      ]
     },
     "execution_count": 15,
     "metadata": {},
     "output_type": "execute_result"
    }
   ],
   "source": [
    "mydb.execute(\"select * from guests\")\n",
    "\n",
    "a=mydb.fetchone()  #fetchone() is used to get the one record from table\n",
    "a"
   ]
  },
  {
   "cell_type": "code",
   "execution_count": 6,
   "id": "13f368dc",
   "metadata": {},
   "outputs": [
    {
     "name": "stdout",
     "output_type": "stream",
     "text": [
      "(2, 'raja', 'raja@email.com', '98765432')\n"
     ]
    }
   ],
   "source": [
    "mydb=data.cursor()\n",
    "mydb.execute(\"select * from guests where guest_id=2\")\n",
    "res=mydb.fetchall()\n",
    "\n",
    "for x in res:\n",
    "    print(x)"
   ]
  },
  {
   "cell_type": "code",
   "execution_count": 9,
   "id": "9a6d51e2",
   "metadata": {},
   "outputs": [
    {
     "name": "stdout",
     "output_type": "stream",
     "text": [
      "1 records updated\n"
     ]
    }
   ],
   "source": [
    "mydb=data.cursor()\n",
    "mydb.execute(\"update guests set guest_name='sita' where email='raja@email.com' \")\n",
    "print(mydb.rowcount,\"records updated\")             "
   ]
  },
  {
   "cell_type": "code",
   "execution_count": 10,
   "id": "3160da2f",
   "metadata": {},
   "outputs": [
    {
     "data": {
      "text/plain": [
       "[(1, 'ram', 'ram@email.com', '123456789'),\n",
       " (2, 'sita', 'raja@email.com', '98765432')]"
      ]
     },
     "execution_count": 10,
     "metadata": {},
     "output_type": "execute_result"
    }
   ],
   "source": [
    "mydb=data.cursor()\n",
    "mydb.execute(\"select * from guests limit 2\")\n",
    "res=mydb.fetchall()\n",
    "res"
   ]
  },
  {
   "cell_type": "code",
   "execution_count": 11,
   "id": "b8a3f9a5",
   "metadata": {},
   "outputs": [
    {
     "data": {
      "text/plain": [
       "[(3, 'akash', 'akash@email.com', '53890262')]"
      ]
     },
     "execution_count": 11,
     "metadata": {},
     "output_type": "execute_result"
    }
   ],
   "source": [
    "mydb=data.cursor()\n",
    "mydb.execute(\"select * from guests limit 1 offset 2\")\n",
    "res=mydb.fetchall()\n",
    "res"
   ]
  },
  {
   "cell_type": "markdown",
   "id": "8fb214cc",
   "metadata": {},
   "source": [
    "# reservation table"
   ]
  },
  {
   "cell_type": "code",
   "execution_count": 2,
   "id": "0774ed0d",
   "metadata": {},
   "outputs": [],
   "source": [
    "import mysql.connector"
   ]
  },
  {
   "cell_type": "code",
   "execution_count": 3,
   "id": "532eafc8",
   "metadata": {},
   "outputs": [
    {
     "name": "stdout",
     "output_type": "stream",
     "text": [
      "<mysql.connector.connection_cext.CMySQLConnection object at 0x00000219805A0F90>\n"
     ]
    }
   ],
   "source": [
    "data=mysql.connector.connect(\n",
    "        host=\"localhost\",\n",
    "        user=\"root\",\n",
    "        password='14302@Omkar',\n",
    "        database='Hotel_reservation')\n",
    "print(data)"
   ]
  },
  {
   "cell_type": "code",
   "execution_count": 4,
   "id": "8e800501",
   "metadata": {},
   "outputs": [],
   "source": [
    "mydb=data.cursor()"
   ]
  },
  {
   "cell_type": "code",
   "execution_count": 15,
   "id": "a6b64341",
   "metadata": {},
   "outputs": [],
   "source": [
    "mydb.execute(\"create table Reservations(reservation_id int primary key,room_number int,guest_id int,check_in_date Date,check_out_date Date,total_cost decimal(10,2),foreign key(room_number)references Rooms(room_number),foreign key (guest_id)references guests(guest_id))\")"
   ]
  },
  {
   "cell_type": "code",
   "execution_count": 16,
   "id": "fddbc30d",
   "metadata": {},
   "outputs": [
    {
     "name": "stdout",
     "output_type": "stream",
     "text": [
      "('guests',)\n",
      "('reservations',)\n",
      "('rooms',)\n"
     ]
    }
   ],
   "source": [
    "mydb.execute(\"show tables\")\n",
    "\n",
    "for x in mydb:\n",
    "    print(x)"
   ]
  },
  {
   "cell_type": "code",
   "execution_count": 18,
   "id": "b1136d2b",
   "metadata": {},
   "outputs": [
    {
     "name": "stdout",
     "output_type": "stream",
     "text": [
      "3 rows inserted\n"
     ]
    }
   ],
   "source": [
    "sql=\"insert into Reservations(reservation_id,room_number,guest_id,check_in_date,check_out_date,total_cost)values(%s,%s,%s,%s,%s,%s)\"\n",
    "val=[\n",
    "    (1001,100,1,'2023-01-15','2023-01-20',500),\n",
    "    (1002,102,2,'2023-02-18','2023-02-25',900),\n",
    "    (1003,103,3,'2023-03-25','2023-04-29',1000)\n",
    "]\n",
    "mydb.executemany(sql,val)\n",
    "data.commit()\n",
    "print(mydb.rowcount,\"rows inserted\")"
   ]
  },
  {
   "cell_type": "code",
   "execution_count": 19,
   "id": "0b8869b2",
   "metadata": {},
   "outputs": [
    {
     "name": "stdout",
     "output_type": "stream",
     "text": [
      "(1001, 100, 1, datetime.date(2023, 1, 15), datetime.date(2023, 1, 20), Decimal('500.00'))\n",
      "(1002, 102, 2, datetime.date(2023, 2, 18), datetime.date(2023, 2, 25), Decimal('900.00'))\n",
      "(1003, 103, 3, datetime.date(2023, 3, 25), datetime.date(2023, 4, 29), Decimal('1000.00'))\n"
     ]
    }
   ],
   "source": [
    "mydb.execute(\"select * from Reservations\")\n",
    "a=mydb.fetchall()\n",
    "\n",
    "for x in a:\n",
    "    print(x)"
   ]
  },
  {
   "cell_type": "code",
   "execution_count": 20,
   "id": "62950e0d",
   "metadata": {},
   "outputs": [
    {
     "data": {
      "text/plain": [
       "(1001,\n",
       " 100,\n",
       " 1,\n",
       " datetime.date(2023, 1, 15),\n",
       " datetime.date(2023, 1, 20),\n",
       " Decimal('500.00'))"
      ]
     },
     "execution_count": 20,
     "metadata": {},
     "output_type": "execute_result"
    }
   ],
   "source": [
    "mydb.execute(\"select * from Reservations\")\n",
    "a=mydb.fetchone()\n",
    "a"
   ]
  },
  {
   "cell_type": "code",
   "execution_count": 5,
   "id": "dd8c652b",
   "metadata": {},
   "outputs": [
    {
     "name": "stdout",
     "output_type": "stream",
     "text": [
      "(1001, 100, 1, datetime.date(2023, 1, 15), datetime.date(2023, 1, 20), Decimal('500.00'))\n"
     ]
    }
   ],
   "source": [
    "mydb=data.cursor()\n",
    "mydb.execute(\"select * from Reservations where reservation_id=1001\")\n",
    "res=mydb.fetchall()\n",
    "\n",
    "for x in res:\n",
    "    print(x)"
   ]
  },
  {
   "cell_type": "code",
   "execution_count": 6,
   "id": "3dee1976",
   "metadata": {},
   "outputs": [
    {
     "name": "stdout",
     "output_type": "stream",
     "text": [
      "1 records updated\n"
     ]
    }
   ],
   "source": [
    "mydb=data.cursor()\n",
    "mydb.execute('update Reservations set reservation_id=1430 where guest_id=1 ')\n",
    "print(mydb.rowcount,\"records updated\")"
   ]
  },
  {
   "cell_type": "code",
   "execution_count": 7,
   "id": "a5d9e38e",
   "metadata": {},
   "outputs": [
    {
     "data": {
      "text/plain": [
       "[(1002,\n",
       "  102,\n",
       "  2,\n",
       "  datetime.date(2023, 2, 18),\n",
       "  datetime.date(2023, 2, 25),\n",
       "  Decimal('900.00')),\n",
       " (1003,\n",
       "  103,\n",
       "  3,\n",
       "  datetime.date(2023, 3, 25),\n",
       "  datetime.date(2023, 4, 29),\n",
       "  Decimal('1000.00')),\n",
       " (1430,\n",
       "  100,\n",
       "  1,\n",
       "  datetime.date(2023, 1, 15),\n",
       "  datetime.date(2023, 1, 20),\n",
       "  Decimal('500.00'))]"
      ]
     },
     "execution_count": 7,
     "metadata": {},
     "output_type": "execute_result"
    }
   ],
   "source": [
    "mydb=data.cursor()\n",
    "\n",
    "mydb.execute(\"select * from Reservations limit 3\")\n",
    "res=mydb.fetchall()\n",
    "res"
   ]
  },
  {
   "cell_type": "code",
   "execution_count": 8,
   "id": "973c0581",
   "metadata": {},
   "outputs": [
    {
     "data": {
      "text/plain": [
       "[(1430,\n",
       "  100,\n",
       "  1,\n",
       "  datetime.date(2023, 1, 15),\n",
       "  datetime.date(2023, 1, 20),\n",
       "  Decimal('500.00'))]"
      ]
     },
     "execution_count": 8,
     "metadata": {},
     "output_type": "execute_result"
    }
   ],
   "source": [
    "mydb=data.cursor()\n",
    "\n",
    "mydb.execute(\"select * from Reservations limit 1 offset 2\")\n",
    "res=mydb.fetchall()\n",
    "res"
   ]
  },
  {
   "cell_type": "code",
   "execution_count": null,
   "id": "0c14cf6b",
   "metadata": {},
   "outputs": [],
   "source": []
  }
 ],
 "metadata": {
  "kernelspec": {
   "display_name": "Python 3 (ipykernel)",
   "language": "python",
   "name": "python3"
  },
  "language_info": {
   "codemirror_mode": {
    "name": "ipython",
    "version": 3
   },
   "file_extension": ".py",
   "mimetype": "text/x-python",
   "name": "python",
   "nbconvert_exporter": "python",
   "pygments_lexer": "ipython3",
   "version": "3.11.5"
  }
 },
 "nbformat": 4,
 "nbformat_minor": 5
}

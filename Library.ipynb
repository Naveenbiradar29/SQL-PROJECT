{
 "cells": [
  {
   "cell_type": "code",
   "execution_count": 1,
   "id": "11068377",
   "metadata": {},
   "outputs": [
    {
     "name": "stdout",
     "output_type": "stream",
     "text": [
      "Requirement already satisfied: mysql-connector-python in c:\\users\\hp\\anaconda3\\lib\\site-packages (8.2.0)\n",
      "Requirement already satisfied: protobuf<=4.21.12,>=4.21.1 in c:\\users\\hp\\anaconda3\\lib\\site-packages (from mysql-connector-python) (4.21.12)\n",
      "Note: you may need to restart the kernel to use updated packages.\n"
     ]
    }
   ],
   "source": [
    "pip install mysql-connector-python"
   ]
  },
  {
   "cell_type": "code",
   "execution_count": 2,
   "id": "ebc7dc04",
   "metadata": {},
   "outputs": [],
   "source": [
    "import mysql.connector"
   ]
  },
  {
   "cell_type": "code",
   "execution_count": 3,
   "id": "4421ea0c",
   "metadata": {},
   "outputs": [
    {
     "name": "stdout",
     "output_type": "stream",
     "text": [
      "<mysql.connector.connection_cext.CMySQLConnection object at 0x00000211E3C17750>\n"
     ]
    }
   ],
   "source": [
    "#establishing the connection between pthon and query\n",
    "data=mysql.connector.connect(\n",
    "        host=\"localhost\",\n",
    "        user=\"root\",\n",
    "        password='14302@Omkar')\n",
    "print(data)"
   ]
  },
  {
   "cell_type": "code",
   "execution_count": 4,
   "id": "2fae14a3",
   "metadata": {},
   "outputs": [
    {
     "data": {
      "text/plain": [
       "<mysql.connector.cursor_cext.CMySQLCursor at 0x211e3471710>"
      ]
     },
     "execution_count": 4,
     "metadata": {},
     "output_type": "execute_result"
    }
   ],
   "source": [
    "mydb=data.cursor()\n",
    "mydb"
   ]
  },
  {
   "cell_type": "code",
   "execution_count": 7,
   "id": "75235c62",
   "metadata": {},
   "outputs": [],
   "source": [
    "mydb.execute(\"create database Library\")"
   ]
  },
  {
   "cell_type": "code",
   "execution_count": 8,
   "id": "fee9a96e",
   "metadata": {},
   "outputs": [
    {
     "name": "stdout",
     "output_type": "stream",
     "text": [
      "('database1',)\n",
      "('hotel_reservation',)\n",
      "('information_schema',)\n",
      "('library',)\n",
      "('mydata',)\n",
      "('mysql',)\n",
      "('naveendb',)\n",
      "('onlinestore',)\n",
      "('performance_schema',)\n",
      "('sys',)\n"
     ]
    }
   ],
   "source": [
    "mydb.execute(\"show databases\")\n",
    "\n",
    "for x in mydb:\n",
    "    print(x)"
   ]
  },
  {
   "cell_type": "code",
   "execution_count": 2,
   "id": "1a371446",
   "metadata": {},
   "outputs": [],
   "source": [
    "import mysql.connector"
   ]
  },
  {
   "cell_type": "code",
   "execution_count": 3,
   "id": "5d5ae7ac",
   "metadata": {},
   "outputs": [
    {
     "name": "stdout",
     "output_type": "stream",
     "text": [
      "<mysql.connector.connection_cext.CMySQLConnection object at 0x0000020677B07F90>\n"
     ]
    }
   ],
   "source": [
    "data=mysql.connector.connect(\n",
    "        host=\"localhost\",\n",
    "        user=\"root\",\n",
    "        password='14302@Omkar',\n",
    "        database=\"Library\")\n",
    "print(data)"
   ]
  },
  {
   "cell_type": "code",
   "execution_count": 4,
   "id": "6a6ceb61",
   "metadata": {},
   "outputs": [],
   "source": [
    "mydb=data.cursor()"
   ]
  },
  {
   "cell_type": "code",
   "execution_count": 16,
   "id": "047266a9",
   "metadata": {},
   "outputs": [],
   "source": [
    "mydb.execute(\"create table Authors(author_id int primary key,author_name varchar(200))\")"
   ]
  },
  {
   "cell_type": "code",
   "execution_count": 17,
   "id": "14983fe4",
   "metadata": {},
   "outputs": [
    {
     "name": "stdout",
     "output_type": "stream",
     "text": [
      "('authors',)\n"
     ]
    }
   ],
   "source": [
    "mydb.execute(\"show tables\")\n",
    "for x in mydb:\n",
    "    print(x)"
   ]
  },
  {
   "cell_type": "code",
   "execution_count": 19,
   "id": "d396ae8c",
   "metadata": {},
   "outputs": [
    {
     "name": "stdout",
     "output_type": "stream",
     "text": [
      "3 rows inserted\n"
     ]
    }
   ],
   "source": [
    "sql=\"insert into Authors(author_id,author_name)values(%s,%s)\"\n",
    "val=[\n",
    "    (1,\"ram\"),\n",
    "    (2,\"john\"),\n",
    "    (3,\"mark\")\n",
    "]\n",
    "mydb.executemany(sql,val)\n",
    "data.commit()\n",
    "print(mydb.rowcount,\"rows inserted\")"
   ]
  },
  {
   "cell_type": "code",
   "execution_count": 20,
   "id": "8e1aad90",
   "metadata": {},
   "outputs": [
    {
     "name": "stdout",
     "output_type": "stream",
     "text": [
      "(1, 'ram')\n",
      "(2, 'john')\n",
      "(3, 'mark')\n"
     ]
    }
   ],
   "source": [
    "mydb.execute(\"select * from Authors\")\n",
    "a=mydb.fetchall()\n",
    "for x in a:\n",
    "    print(x)"
   ]
  },
  {
   "cell_type": "code",
   "execution_count": 7,
   "id": "ff5aa5f2",
   "metadata": {},
   "outputs": [
    {
     "data": {
      "text/plain": [
       "(1, 'ram')"
      ]
     },
     "execution_count": 7,
     "metadata": {},
     "output_type": "execute_result"
    }
   ],
   "source": [
    "mydb.execute(\"select * from Authors\")\n",
    "a=mydb.fetchone()\n",
    "a"
   ]
  },
  {
   "cell_type": "code",
   "execution_count": 5,
   "id": "f35ee3e3",
   "metadata": {},
   "outputs": [
    {
     "data": {
      "text/plain": [
       "[(1, 'ram'), (2, 'john')]"
      ]
     },
     "execution_count": 5,
     "metadata": {},
     "output_type": "execute_result"
    }
   ],
   "source": [
    "mydb=data.cursor()\n",
    "mydb.execute(\"select * from Authors limit 2\")\n",
    "res=mydb.fetchall()\n",
    "res"
   ]
  },
  {
   "cell_type": "code",
   "execution_count": 6,
   "id": "e767471e",
   "metadata": {},
   "outputs": [
    {
     "name": "stdout",
     "output_type": "stream",
     "text": [
      "(1, 'ram')\n"
     ]
    }
   ],
   "source": [
    "mydb=data.cursor()\n",
    "mydb.execute(\"select * from Authors where author_id=1\")\n",
    "res=mydb.fetchall()\n",
    "for x in res:\n",
    "    print(x) "
   ]
  },
  {
   "cell_type": "code",
   "execution_count": 7,
   "id": "9bbff79c",
   "metadata": {},
   "outputs": [
    {
     "name": "stdout",
     "output_type": "stream",
     "text": [
      "1 records updated\n"
     ]
    }
   ],
   "source": [
    "mydb=data.cursor()\n",
    "mydb.execute(\"update Authors set author_name='rama' where author_id=1\")\n",
    "print(mydb.rowcount,\"records updated\")"
   ]
  },
  {
   "cell_type": "code",
   "execution_count": 8,
   "id": "98b61a52",
   "metadata": {},
   "outputs": [
    {
     "data": {
      "text/plain": [
       "[(3, 'mark')]"
      ]
     },
     "execution_count": 8,
     "metadata": {},
     "output_type": "execute_result"
    }
   ],
   "source": [
    "mydb=data.cursor()\n",
    "mydb.execute(\"select * from Authors limit 1 offset 2\")\n",
    "res=mydb.fetchall()\n",
    "res"
   ]
  },
  {
   "cell_type": "markdown",
   "id": "c9b4137a",
   "metadata": {},
   "source": [
    "# books table"
   ]
  },
  {
   "cell_type": "code",
   "execution_count": 10,
   "id": "82537a22",
   "metadata": {},
   "outputs": [],
   "source": [
    "import mysql.connector"
   ]
  },
  {
   "cell_type": "code",
   "execution_count": 11,
   "id": "b1027e77",
   "metadata": {},
   "outputs": [
    {
     "name": "stdout",
     "output_type": "stream",
     "text": [
      "<mysql.connector.connection_cext.CMySQLConnection object at 0x000001DAC8B517D0>\n"
     ]
    }
   ],
   "source": [
    "data=mysql.connector.connect(\n",
    "        host=\"localhost\",\n",
    "        user=\"root\",\n",
    "        password='14302@Omkar',\n",
    "        database='Library')\n",
    "print(data)"
   ]
  },
  {
   "cell_type": "code",
   "execution_count": 12,
   "id": "718be3ac",
   "metadata": {},
   "outputs": [],
   "source": [
    "mydb=data.cursor()"
   ]
  },
  {
   "cell_type": "code",
   "execution_count": 12,
   "id": "b7ffe95c",
   "metadata": {},
   "outputs": [],
   "source": [
    "mydb.execute(\"create table Books(book_id int primary key,title varchar(200),author_id int,available_copies int,total_copies int,genre varchar(50),publication_year int,foreign key (author_id)references Authors(author_id))\")"
   ]
  },
  {
   "cell_type": "code",
   "execution_count": 13,
   "id": "d06f1c40",
   "metadata": {
    "scrolled": true
   },
   "outputs": [
    {
     "name": "stdout",
     "output_type": "stream",
     "text": [
      "('authors',)\n",
      "('books',)\n"
     ]
    }
   ],
   "source": [
    "mydb.execute(\"show tables\")\n",
    "for x in mydb:\n",
    "    print(x)"
   ]
  },
  {
   "cell_type": "code",
   "execution_count": 5,
   "id": "358e9a21",
   "metadata": {},
   "outputs": [
    {
     "name": "stdout",
     "output_type": "stream",
     "text": [
      "3 rows inserted\n"
     ]
    }
   ],
   "source": [
    "sql=\"insert into Books(book_id,title,author_id,available_copies,total_copies,genre,publication_year)values(%s,%s,%s,%s,%s,%s,%s)\"\n",
    "val=[\n",
    "    (101,\"The art of programming\",1,5,10,\"programming\",2020),\n",
    "    (102,\"Data science basics\",2,8,12,\"data_science\",2019),\n",
    "    (103,\"History of science\",3,3,5,\"history\",2018)\n",
    "]\n",
    "mydb.executemany(sql,val)\n",
    "data.commit()\n",
    "print(mydb.rowcount,\"rows inserted\")"
   ]
  },
  {
   "cell_type": "code",
   "execution_count": 6,
   "id": "279fb695",
   "metadata": {},
   "outputs": [
    {
     "name": "stdout",
     "output_type": "stream",
     "text": [
      "(101, 'The art of programming', 1, 5, 10, 'programming', 2020)\n",
      "(102, 'Data science basics', 2, 8, 12, 'data_science', 2019)\n",
      "(103, 'History of science', 3, 3, 5, 'history', 2018)\n"
     ]
    }
   ],
   "source": [
    "mydb.execute(\"select * from Books\")\n",
    "a=mydb.fetchall()\n",
    "\n",
    "for x in a:\n",
    "    print(x)"
   ]
  },
  {
   "cell_type": "code",
   "execution_count": 7,
   "id": "181d8586",
   "metadata": {},
   "outputs": [
    {
     "data": {
      "text/plain": [
       "(101, 'The art of programming', 1, 5, 10, 'programming', 2020)"
      ]
     },
     "execution_count": 7,
     "metadata": {},
     "output_type": "execute_result"
    }
   ],
   "source": [
    "mydb.execute(\"select * from Books\")\n",
    "a=mydb.fetchone()\n",
    "a"
   ]
  },
  {
   "cell_type": "code",
   "execution_count": 13,
   "id": "e9445ad6",
   "metadata": {},
   "outputs": [
    {
     "name": "stdout",
     "output_type": "stream",
     "text": [
      "(101, 'The art of programming', 1, 5, 10, 'programming', 2020)\n"
     ]
    }
   ],
   "source": [
    "mydb=data.cursor()\n",
    "mydb.execute(\"select * from Books where book_id=101\")\n",
    "res=mydb.fetchall()\n",
    "\n",
    "for x in res:\n",
    "    print(x)"
   ]
  },
  {
   "cell_type": "code",
   "execution_count": 15,
   "id": "19310434",
   "metadata": {},
   "outputs": [
    {
     "name": "stdout",
     "output_type": "stream",
     "text": [
      "1 records updated\n"
     ]
    }
   ],
   "source": [
    "mydb=data.cursor()\n",
    "mydb.execute('update Books set book_id=100 where author_id=1')\n",
    "print(mydb.rowcount,\"records updated\")"
   ]
  },
  {
   "cell_type": "code",
   "execution_count": 16,
   "id": "15e62a36",
   "metadata": {},
   "outputs": [
    {
     "data": {
      "text/plain": [
       "[(100, 'The art of programming', 1, 5, 10, 'programming', 2020),\n",
       " (102, 'Data science basics', 2, 8, 12, 'data_science', 2019),\n",
       " (103, 'History of science', 3, 3, 5, 'history', 2018)]"
      ]
     },
     "execution_count": 16,
     "metadata": {},
     "output_type": "execute_result"
    }
   ],
   "source": [
    "mydb=data.cursor()\n",
    "\n",
    "mydb.execute(\"select * from Books limit 3\")\n",
    "res=mydb.fetchall()\n",
    "res"
   ]
  },
  {
   "cell_type": "code",
   "execution_count": 17,
   "id": "30c77da0",
   "metadata": {},
   "outputs": [
    {
     "data": {
      "text/plain": [
       "[(103, 'History of science', 3, 3, 5, 'history', 2018)]"
      ]
     },
     "execution_count": 17,
     "metadata": {},
     "output_type": "execute_result"
    }
   ],
   "source": [
    "mydb=data.cursor()\n",
    "\n",
    "mydb.execute(\"select * from Books limit 1 offset 2\")\n",
    "res=mydb.fetchall()\n",
    "res"
   ]
  },
  {
   "cell_type": "markdown",
   "id": "fcae862e",
   "metadata": {},
   "source": [
    "# borrowers table"
   ]
  },
  {
   "cell_type": "code",
   "execution_count": 2,
   "id": "3fcf2076",
   "metadata": {},
   "outputs": [],
   "source": [
    "import mysql.connector"
   ]
  },
  {
   "cell_type": "code",
   "execution_count": 3,
   "id": "3c5a1f2f",
   "metadata": {},
   "outputs": [
    {
     "name": "stdout",
     "output_type": "stream",
     "text": [
      "<mysql.connector.connection_cext.CMySQLConnection object at 0x0000026A45E2D0D0>\n"
     ]
    }
   ],
   "source": [
    "data=mysql.connector.connect(\n",
    "        host=\"localhost\",\n",
    "        user=\"root\",\n",
    "        password='14302@Omkar',\n",
    "        database='Library')\n",
    "print(data)"
   ]
  },
  {
   "cell_type": "code",
   "execution_count": 4,
   "id": "4eb957a2",
   "metadata": {},
   "outputs": [],
   "source": [
    "mydb=data.cursor()"
   ]
  },
  {
   "cell_type": "code",
   "execution_count": 21,
   "id": "7b23dfd7",
   "metadata": {},
   "outputs": [],
   "source": [
    "mydb.execute(\"create table Borrowers(borrower_id int primary key,borrower_name varchar(200),contact_number varchar(15))\")"
   ]
  },
  {
   "cell_type": "code",
   "execution_count": 22,
   "id": "e354194a",
   "metadata": {},
   "outputs": [
    {
     "name": "stdout",
     "output_type": "stream",
     "text": [
      "('authors',)\n",
      "('books',)\n",
      "('borrowers',)\n"
     ]
    }
   ],
   "source": [
    "mydb.execute(\"show tables\")\n",
    "\n",
    "for x in mydb:1\n",
    "    print(x)"
   ]
  },
  {
   "cell_type": "code",
   "execution_count": 24,
   "id": "151449e5",
   "metadata": {},
   "outputs": [
    {
     "name": "stdout",
     "output_type": "stream",
     "text": [
      "3 rows inserted\n"
     ]
    }
   ],
   "source": [
    "sql=\"insert into Borrowers(borrower_id,borrower_name,contact_number)values(%s,%s,%s)\"\n",
    "val=[\n",
    "    (501,\"Naveen\",9876543210),\n",
    "    (502,\"Ram\",1234567890),\n",
    "    (503,\"John\",6977292968)\n",
    "]\n",
    "mydb.executemany(sql,val)\n",
    "data.commit()\n",
    "print(mydb.rowcount,\"rows inserted\")"
   ]
  },
  {
   "cell_type": "code",
   "execution_count": 25,
   "id": "c0f9dda3",
   "metadata": {},
   "outputs": [
    {
     "name": "stdout",
     "output_type": "stream",
     "text": [
      "(501, 'Naveen', '9876543210')\n",
      "(502, 'Ram', '1234567890')\n",
      "(503, 'John', '6977292968')\n"
     ]
    }
   ],
   "source": [
    "mydb.execute(\"select * from Borrowers\")\n",
    "a=mydb.fetchall()\n",
    "\n",
    "for x in a:\n",
    "    print(x)"
   ]
  },
  {
   "cell_type": "code",
   "execution_count": 26,
   "id": "2424d694",
   "metadata": {},
   "outputs": [
    {
     "data": {
      "text/plain": [
       "(501, 'Naveen', '9876543210')"
      ]
     },
     "execution_count": 26,
     "metadata": {},
     "output_type": "execute_result"
    }
   ],
   "source": [
    "mydb.execute(\"select * from Borrowers\")\n",
    "a=mydb.fetchone()\n",
    "a"
   ]
  },
  {
   "cell_type": "code",
   "execution_count": 5,
   "id": "ea20523a",
   "metadata": {},
   "outputs": [
    {
     "name": "stdout",
     "output_type": "stream",
     "text": [
      "(501, 'Naveen', '9876543210')\n"
     ]
    }
   ],
   "source": [
    "mydb=data.cursor()\n",
    "mydb.execute(\"select * from Borrowers where borrower_id=501\")\n",
    "res=mydb.fetchall()\n",
    "\n",
    "for x in res:\n",
    "    print(x)"
   ]
  },
  {
   "cell_type": "code",
   "execution_count": 6,
   "id": "2c511e45",
   "metadata": {},
   "outputs": [
    {
     "name": "stdout",
     "output_type": "stream",
     "text": [
      "1 records updated\n"
     ]
    }
   ],
   "source": [
    "mydb=data.cursor()\n",
    "mydb.execute('update Borrowers set borrower_id=500 where borrower_name=\"Naveen\"')\n",
    "print(mydb.rowcount,\"records updated\")"
   ]
  },
  {
   "cell_type": "code",
   "execution_count": 7,
   "id": "61a32ea8",
   "metadata": {},
   "outputs": [
    {
     "data": {
      "text/plain": [
       "[(500, 'Naveen', '9876543210'),\n",
       " (502, 'Ram', '1234567890'),\n",
       " (503, 'John', '6977292968')]"
      ]
     },
     "execution_count": 7,
     "metadata": {},
     "output_type": "execute_result"
    }
   ],
   "source": [
    "mydb=data.cursor()\n",
    "\n",
    "mydb.execute(\"select * from Borrowers limit 3\")\n",
    "res=mydb.fetchall()\n",
    "res"
   ]
  },
  {
   "cell_type": "code",
   "execution_count": 8,
   "id": "ebda26d9",
   "metadata": {},
   "outputs": [
    {
     "data": {
      "text/plain": [
       "[(503, 'John', '6977292968')]"
      ]
     },
     "execution_count": 8,
     "metadata": {},
     "output_type": "execute_result"
    }
   ],
   "source": [
    "mydb=data.cursor()\n",
    "\n",
    "mydb.execute(\"select * from Borrowers limit 1 offset 2\")\n",
    "res=mydb.fetchall()\n",
    "res"
   ]
  },
  {
   "cell_type": "markdown",
   "id": "b3fc8278",
   "metadata": {},
   "source": [
    "# Transaction_table"
   ]
  },
  {
   "cell_type": "code",
   "execution_count": 1,
   "id": "5a3f19a5",
   "metadata": {},
   "outputs": [],
   "source": [
    "import mysql.connector"
   ]
  },
  {
   "cell_type": "code",
   "execution_count": 2,
   "id": "82f750cb",
   "metadata": {},
   "outputs": [
    {
     "name": "stdout",
     "output_type": "stream",
     "text": [
      "<mysql.connector.connection_cext.CMySQLConnection object at 0x000001529CC5D950>\n"
     ]
    }
   ],
   "source": [
    "data=mysql.connector.connect(\n",
    "        host=\"localhost\",\n",
    "        user=\"root\",\n",
    "        password='14302@Omkar',\n",
    "        database='Library')\n",
    "print(data)"
   ]
  },
  {
   "cell_type": "code",
   "execution_count": 3,
   "id": "9d48176c",
   "metadata": {},
   "outputs": [],
   "source": [
    "mydb=data.cursor()"
   ]
  },
  {
   "cell_type": "code",
   "execution_count": 13,
   "id": "ca1d6a42",
   "metadata": {},
   "outputs": [],
   "source": [
    "mydb.execute(\"create table Transactions(transaction_id int primary key,book_id int,borrower_id int,borrow_date Date,return_date Date,foreign key(book_id)references Books(book_id))\")"
   ]
  },
  {
   "cell_type": "code",
   "execution_count": 14,
   "id": "bced2cda",
   "metadata": {},
   "outputs": [
    {
     "name": "stdout",
     "output_type": "stream",
     "text": [
      "('authors',)\n",
      "('books',)\n",
      "('borrowers',)\n",
      "('transactions',)\n"
     ]
    }
   ],
   "source": [
    "mydb.execute(\"show tables\")\n",
    "\n",
    "for x in mydb:\n",
    "    print(x)"
   ]
  },
  {
   "cell_type": "code",
   "execution_count": 15,
   "id": "0a26571b",
   "metadata": {},
   "outputs": [
    {
     "name": "stdout",
     "output_type": "stream",
     "text": [
      "3 rows inserted\n"
     ]
    }
   ],
   "source": [
    "sql=\"insert into Transactions(transaction_id,book_id,borrower_id,borrow_date,return_date)values(%s,%s,%s,%s,%s)\"\n",
    "val=[\n",
    "    (1001,101,501,'2023-01-01','2023-01-15'),\n",
    "    (1002,102,502,'2023-02-05','2023-02-20'),\n",
    "    (1003,103,503,'2023-03-10','2023-03-25')\n",
    "]\n",
    "mydb.executemany(sql,val)\n",
    "data.commit()\n",
    "print(mydb.rowcount,\"rows inserted\")"
   ]
  },
  {
   "cell_type": "code",
   "execution_count": 16,
   "id": "b030342a",
   "metadata": {},
   "outputs": [
    {
     "name": "stdout",
     "output_type": "stream",
     "text": [
      "(1001, 101, 501, datetime.date(2023, 1, 1), datetime.date(2023, 1, 15))\n",
      "(1002, 102, 502, datetime.date(2023, 2, 5), datetime.date(2023, 2, 20))\n",
      "(1003, 103, 503, datetime.date(2023, 3, 10), datetime.date(2023, 3, 25))\n"
     ]
    }
   ],
   "source": [
    "mydb.execute(\"select * from Transactions\")\n",
    "a=mydb.fetchall()\n",
    "\n",
    "for x in a:\n",
    "    print(x)"
   ]
  },
  {
   "cell_type": "code",
   "execution_count": 17,
   "id": "80d6f29f",
   "metadata": {},
   "outputs": [
    {
     "data": {
      "text/plain": [
       "(1001, 101, 501, datetime.date(2023, 1, 1), datetime.date(2023, 1, 15))"
      ]
     },
     "execution_count": 17,
     "metadata": {},
     "output_type": "execute_result"
    }
   ],
   "source": [
    "mydb.execute(\"select * from Transactions\")\n",
    "a=mydb.fetchone()\n",
    "a"
   ]
  },
  {
   "cell_type": "code",
   "execution_count": 4,
   "id": "4c62d00b",
   "metadata": {},
   "outputs": [
    {
     "data": {
      "text/plain": [
       "(1001, 101, 501, datetime.date(2023, 1, 1), datetime.date(2023, 1, 15))"
      ]
     },
     "execution_count": 4,
     "metadata": {},
     "output_type": "execute_result"
    }
   ],
   "source": [
    "mydb.execute(\"select * from Transactions\")\n",
    "a=mydb.fetchone()\n",
    "a"
   ]
  },
  {
   "cell_type": "code",
   "execution_count": 4,
   "id": "cb6b6dad",
   "metadata": {},
   "outputs": [
    {
     "name": "stdout",
     "output_type": "stream",
     "text": [
      "(1001, 101, 501, datetime.date(2023, 1, 1), datetime.date(2023, 1, 15))\n"
     ]
    }
   ],
   "source": [
    "mydb=data.cursor()\n",
    "mydb.execute(\"select * from Transactions where transaction_id=1001\")\n",
    "res=mydb.fetchall()\n",
    "\n",
    "for x in res:\n",
    "    print(x)"
   ]
  },
  {
   "cell_type": "code",
   "execution_count": 5,
   "id": "c01072bf",
   "metadata": {},
   "outputs": [
    {
     "name": "stdout",
     "output_type": "stream",
     "text": [
      "1 records updated\n"
     ]
    }
   ],
   "source": [
    "mydb=data.cursor()\n",
    "mydb.execute('update Transactions set transaction_id=1000 where book_id=101')\n",
    "print(mydb.rowcount,\"records updated\")"
   ]
  },
  {
   "cell_type": "code",
   "execution_count": 6,
   "id": "b8c3a13d",
   "metadata": {},
   "outputs": [
    {
     "data": {
      "text/plain": [
       "[(1000, 101, 501, datetime.date(2023, 1, 1), datetime.date(2023, 1, 15)),\n",
       " (1002, 102, 502, datetime.date(2023, 2, 5), datetime.date(2023, 2, 20)),\n",
       " (1003, 103, 503, datetime.date(2023, 3, 10), datetime.date(2023, 3, 25))]"
      ]
     },
     "execution_count": 6,
     "metadata": {},
     "output_type": "execute_result"
    }
   ],
   "source": [
    "mydb=data.cursor()\n",
    "\n",
    "mydb.execute(\"select * from Transactions limit 3\")\n",
    "res=mydb.fetchall()\n",
    "res"
   ]
  },
  {
   "cell_type": "code",
   "execution_count": 7,
   "id": "3805618f",
   "metadata": {},
   "outputs": [
    {
     "data": {
      "text/plain": [
       "[(1003, 103, 503, datetime.date(2023, 3, 10), datetime.date(2023, 3, 25))]"
      ]
     },
     "execution_count": 7,
     "metadata": {},
     "output_type": "execute_result"
    }
   ],
   "source": [
    "mydb=data.cursor()\n",
    "\n",
    "mydb.execute(\"select * from Transactions limit 1 offset 2\")\n",
    "res=mydb.fetchall()\n",
    "res"
   ]
  },
  {
   "cell_type": "code",
   "execution_count": null,
   "id": "ba3f75e8",
   "metadata": {},
   "outputs": [],
   "source": []
  }
 ],
 "metadata": {
  "kernelspec": {
   "display_name": "Python 3 (ipykernel)",
   "language": "python",
   "name": "python3"
  },
  "language_info": {
   "codemirror_mode": {
    "name": "ipython",
    "version": 3
   },
   "file_extension": ".py",
   "mimetype": "text/x-python",
   "name": "python",
   "nbconvert_exporter": "python",
   "pygments_lexer": "ipython3",
   "version": "3.11.5"
  }
 },
 "nbformat": 4,
 "nbformat_minor": 5
}

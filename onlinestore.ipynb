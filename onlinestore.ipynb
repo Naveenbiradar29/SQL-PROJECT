{
 "cells": [
  {
   "cell_type": "code",
   "execution_count": 50,
   "id": "b0646a92",
   "metadata": {},
   "outputs": [
    {
     "name": "stdout",
     "output_type": "stream",
     "text": [
      "Requirement already satisfied: mysql-connector-python in c:\\users\\hp\\anaconda3\\lib\\site-packages (8.2.0)\n",
      "Requirement already satisfied: protobuf<=4.21.12,>=4.21.1 in c:\\users\\hp\\anaconda3\\lib\\site-packages (from mysql-connector-python) (4.21.12)\n",
      "Note: you may need to restart the kernel to use updated packages.\n"
     ]
    }
   ],
   "source": [
    "pip install mysql-connector-python"
   ]
  },
  {
   "cell_type": "code",
   "execution_count": 51,
   "id": "69455f9f",
   "metadata": {},
   "outputs": [],
   "source": [
    "import mysql.connector"
   ]
  },
  {
   "cell_type": "code",
   "execution_count": 52,
   "id": "854379f3",
   "metadata": {},
   "outputs": [
    {
     "name": "stdout",
     "output_type": "stream",
     "text": [
      "<mysql.connector.connection_cext.CMySQLConnection object at 0x0000016380EEB310>\n"
     ]
    }
   ],
   "source": [
    "#establishing the connection between python and database\n",
    "data=mysql.connector.connect(\n",
    "        host=\"localhost\",\n",
    "        user=\"root\",\n",
    "        password='14302@Omkar')\n",
    "print(data)"
   ]
  },
  {
   "cell_type": "code",
   "execution_count": 53,
   "id": "8f62d3c7",
   "metadata": {},
   "outputs": [
    {
     "data": {
      "text/plain": [
       "<mysql.connector.cursor_cext.CMySQLCursor at 0x163ffcf7b50>"
      ]
     },
     "execution_count": 53,
     "metadata": {},
     "output_type": "execute_result"
    }
   ],
   "source": [
    "mydb=data.cursor() #cursor() is used to interact with sql series\n",
    "mydb"
   ]
  },
  {
   "cell_type": "code",
   "execution_count": 54,
   "id": "2af76d7f",
   "metadata": {},
   "outputs": [],
   "source": [
    "#mydb.execute(\"CREATE DATABASE OnlineStore\") #executing the sql queries"
   ]
  },
  {
   "cell_type": "code",
   "execution_count": 19,
   "id": "0b798b4f",
   "metadata": {},
   "outputs": [
    {
     "name": "stdout",
     "output_type": "stream",
     "text": [
      "('database1',)\n",
      "('information_schema',)\n",
      "('mydata',)\n",
      "('mysql',)\n",
      "('naveendb',)\n",
      "('onlinestore',)\n",
      "('performance_schema',)\n",
      "('sys',)\n"
     ]
    }
   ],
   "source": [
    "mydb.execute(\"show databases\")\n",
    "\n",
    "for x in mydb:\n",
    "    print(x)"
   ]
  },
  {
   "cell_type": "code",
   "execution_count": 2,
   "id": "a423ace8",
   "metadata": {},
   "outputs": [],
   "source": [
    "import mysql.connector"
   ]
  },
  {
   "cell_type": "code",
   "execution_count": 3,
   "id": "5f1ef7ac",
   "metadata": {},
   "outputs": [
    {
     "name": "stdout",
     "output_type": "stream",
     "text": [
      "<mysql.connector.connection_cext.CMySQLConnection object at 0x0000024731E24050>\n"
     ]
    }
   ],
   "source": [
    "data=mysql.connector.connect(\n",
    "        host=\"localhost\",\n",
    "        user=\"root\",\n",
    "        password='14302@Omkar',\n",
    "        database='OnlineStore')\n",
    "print(data)"
   ]
  },
  {
   "cell_type": "code",
   "execution_count": 4,
   "id": "df5cf73e",
   "metadata": {},
   "outputs": [],
   "source": [
    "mydb=data.cursor()"
   ]
  },
  {
   "cell_type": "code",
   "execution_count": 59,
   "id": "96bab650",
   "metadata": {},
   "outputs": [],
   "source": [
    "#mydb.execute(\"create table Customers(id int primary key,first_name varchar(50),last_name varchar(50),email varchar(100) unique,phone_number varchar(20),address varchar(200))\")"
   ]
  },
  {
   "cell_type": "code",
   "execution_count": 16,
   "id": "51d3f04e",
   "metadata": {},
   "outputs": [
    {
     "name": "stdout",
     "output_type": "stream",
     "text": [
      "('customers',)\n"
     ]
    }
   ],
   "source": [
    "mydb.execute(\"show tables\")\n",
    "\n",
    "for x in mydb:\n",
    "    print(x)"
   ]
  },
  {
   "cell_type": "code",
   "execution_count": 4,
   "id": "90dbf374",
   "metadata": {},
   "outputs": [],
   "source": [
    "sql=\"insert into Customers(id,first_name,last_name,email,phone_number,address)values(%s,%s,%s,%s,%s,%s)\"\n",
    "val=[\n",
    "    (1,\"Naveen\",\"Biradar\",\"Naveenbiradar32@gmail.com\",7760299861,\"123 Main street\"),\n",
    "    (2,\"Pravila\",\"Desouza\",\"Pravila123@gmail.com\",1234567890,\"454Balmatta\"),\n",
    "    (3,\"John\",\"Doe\",\"John22@gmail.com\",9876543210,\"628Bangalore\")\n",
    "]\n",
    "mydb.executemany(sql,val)\n",
    "data.commit()\n",
    "print(mydb.rowcount,\"rows inserted\")"
   ]
  },
  {
   "cell_type": "code",
   "execution_count": 17,
   "id": "dfddbabd",
   "metadata": {},
   "outputs": [
    {
     "name": "stdout",
     "output_type": "stream",
     "text": [
      "(1, 'Naveen', 'Biradar', 'Naveenbiradar32@gmail.com', '7760299861', '123 Main street')\n",
      "(2, 'Pravila', 'Desouza', 'Pravila123@gmail.com', '1234567890', '454Balmatta')\n",
      "(3, 'John', 'Doe', 'John22@gmail.com', '9876543210', '628Bangalore')\n"
     ]
    }
   ],
   "source": [
    "mydb.execute(\"select * from Customers\")\n",
    "a=mydb.fetchall()  #fetchall() is used to get the all records from table\n",
    "\n",
    "for x in a:\n",
    "    print(x)\n"
   ]
  },
  {
   "cell_type": "code",
   "execution_count": 18,
   "id": "9a93be5e",
   "metadata": {},
   "outputs": [
    {
     "data": {
      "text/plain": [
       "(1,\n",
       " 'Naveen',\n",
       " 'Biradar',\n",
       " 'Naveenbiradar32@gmail.com',\n",
       " '7760299861',\n",
       " '123 Main street')"
      ]
     },
     "execution_count": 18,
     "metadata": {},
     "output_type": "execute_result"
    }
   ],
   "source": [
    "mydb.execute(\"select * from Customers\")\n",
    "\n",
    "a=mydb.fetchone()\n",
    "a"
   ]
  },
  {
   "cell_type": "code",
   "execution_count": 5,
   "id": "c2c0eac6",
   "metadata": {},
   "outputs": [
    {
     "data": {
      "text/plain": [
       "[(1,\n",
       "  'Naveen',\n",
       "  'Biradar',\n",
       "  'Naveenbiradar32@gmail.com',\n",
       "  '7760299861',\n",
       "  '123 Main street')]"
      ]
     },
     "execution_count": 5,
     "metadata": {},
     "output_type": "execute_result"
    }
   ],
   "source": [
    "mydb=data.cursor()\n",
    "mydb.execute(\"select * from Customers limit 1\")\n",
    "res=mydb.fetchall()\n",
    "res\n"
   ]
  },
  {
   "cell_type": "code",
   "execution_count": 6,
   "id": "1d7630c2",
   "metadata": {},
   "outputs": [
    {
     "name": "stdout",
     "output_type": "stream",
     "text": [
      "(2, 'Pravila', 'Desouza', 'Pravila123@gmail.com', '1234567890', '454Balmatta')\n"
     ]
    }
   ],
   "source": [
    "mydb=data.cursor()\n",
    "mydb.execute(\"select * from Customers where id=2\")\n",
    "res=mydb.fetchall()\n",
    "for x in res:\n",
    "    print(x) "
   ]
  },
  {
   "cell_type": "code",
   "execution_count": 9,
   "id": "7652bc3d",
   "metadata": {},
   "outputs": [
    {
     "name": "stdout",
     "output_type": "stream",
     "text": [
      "1 records updated\n"
     ]
    }
   ],
   "source": [
    "mydb=data.cursor()\n",
    "mydb.execute(\"update Customers set first_name='navi' where id=1\")\n",
    "print(mydb.rowcount,\"records updated\")"
   ]
  },
  {
   "cell_type": "code",
   "execution_count": 10,
   "id": "a0652eb1",
   "metadata": {},
   "outputs": [
    {
     "data": {
      "text/plain": [
       "(3, 'John', 'Doe', 'John22@gmail.com', '9876543210', '628Bangalore')"
      ]
     },
     "execution_count": 10,
     "metadata": {},
     "output_type": "execute_result"
    }
   ],
   "source": [
    "mydb=data.cursor()\n",
    "mydb.execute(\"select * from Customers limit 1 offset 2\")\n",
    "res=mydb.fetchone()\n",
    "res"
   ]
  },
  {
   "cell_type": "markdown",
   "id": "ebab6520",
   "metadata": {},
   "source": [
    "# product table"
   ]
  },
  {
   "cell_type": "code",
   "execution_count": 2,
   "id": "c54c64f0",
   "metadata": {},
   "outputs": [],
   "source": [
    "import mysql.connector"
   ]
  },
  {
   "cell_type": "code",
   "execution_count": 3,
   "id": "9b74d876",
   "metadata": {},
   "outputs": [
    {
     "name": "stdout",
     "output_type": "stream",
     "text": [
      "<mysql.connector.connection_cext.CMySQLConnection object at 0x000001E7CAB6CB90>\n"
     ]
    }
   ],
   "source": [
    "data=mysql.connector.connect(\n",
    "        host=\"localhost\",\n",
    "        user=\"root\",\n",
    "        password='14302@Omkar',\n",
    "        database='OnlineStore')\n",
    "print(data)"
   ]
  },
  {
   "cell_type": "code",
   "execution_count": 4,
   "id": "69c86e9d",
   "metadata": {},
   "outputs": [],
   "source": [
    "mydb=data.cursor()"
   ]
  },
  {
   "cell_type": "code",
   "execution_count": null,
   "id": "10a561b3",
   "metadata": {},
   "outputs": [],
   "source": []
  },
  {
   "cell_type": "code",
   "execution_count": 19,
   "id": "6911fcac",
   "metadata": {},
   "outputs": [],
   "source": [
    "#mydb.execute(\"create table Products(Pid int primary key,Pname text not null,Price decimal(10,2) not null,Stock_quantity int not null)\")"
   ]
  },
  {
   "cell_type": "code",
   "execution_count": 5,
   "id": "f37f350e",
   "metadata": {},
   "outputs": [
    {
     "name": "stdout",
     "output_type": "stream",
     "text": [
      "('customers',)\n",
      "('products',)\n"
     ]
    }
   ],
   "source": [
    "mydb.execute(\"show tables\")\n",
    "\n",
    "for x in mydb:\n",
    "    print(x)"
   ]
  },
  {
   "cell_type": "code",
   "execution_count": 8,
   "id": "c1220c35",
   "metadata": {},
   "outputs": [
    {
     "name": "stdout",
     "output_type": "stream",
     "text": [
      "3 rows inserted\n"
     ]
    }
   ],
   "source": [
    "sql=\"insert into Products(Pid,Pname,Price,Stock_quantity)values(%s,%s,%s,%s)\"\n",
    "val=[\n",
    "     (1,\"Laptop\",999.99,50),\n",
    "     (2,\"Smartphone\",499.99,100),\n",
    "     (3,\"Camera\",599.99,80)\n",
    "]\n",
    "mydb.executemany(sql,val)\n",
    "data.commit()\n",
    "print(mydb.rowcount,\"rows inserted\")"
   ]
  },
  {
   "cell_type": "code",
   "execution_count": 6,
   "id": "6f9385cb",
   "metadata": {},
   "outputs": [
    {
     "name": "stdout",
     "output_type": "stream",
     "text": [
      "(1, 'Laptop', Decimal('999.99'), 50)\n",
      "(2, 'Smartphone', Decimal('499.99'), 100)\n",
      "(3, 'Camera', Decimal('599.99'), 80)\n"
     ]
    }
   ],
   "source": [
    "mydb.execute(\"select * from products\")\n",
    "a=mydb.fetchall()  #fetchall() is used to get the all records from table\n",
    "\n",
    "for x in a:\n",
    "    print(x)"
   ]
  },
  {
   "cell_type": "code",
   "execution_count": 7,
   "id": "0666645c",
   "metadata": {},
   "outputs": [
    {
     "data": {
      "text/plain": [
       "(1, 'Laptop', Decimal('999.99'), 50)"
      ]
     },
     "execution_count": 7,
     "metadata": {},
     "output_type": "execute_result"
    }
   ],
   "source": [
    "mydb.execute(\"select * from Products\")\n",
    "a=mydb.fetchone()\n",
    "a"
   ]
  },
  {
   "cell_type": "code",
   "execution_count": 5,
   "id": "14854386",
   "metadata": {},
   "outputs": [
    {
     "name": "stdout",
     "output_type": "stream",
     "text": [
      "(2, 'Smartphone', Decimal('499.99'), 100)\n"
     ]
    }
   ],
   "source": [
    "mydb=data.cursor()\n",
    "mydb.execute(\"select * from Products where Pid=2\")\n",
    "res=mydb.fetchall()\n",
    "\n",
    "for x in res:\n",
    "    print(x)"
   ]
  },
  {
   "cell_type": "code",
   "execution_count": 6,
   "id": "1d424337",
   "metadata": {},
   "outputs": [
    {
     "name": "stdout",
     "output_type": "stream",
     "text": [
      "1 records updated\n"
     ]
    }
   ],
   "source": [
    "mydb=data.cursor()\n",
    "mydb.execute(\"update Products set Price=10000 where Pname='Camera' \")\n",
    "print(mydb.rowcount,\"records updated\")"
   ]
  },
  {
   "cell_type": "code",
   "execution_count": 7,
   "id": "c3a6f55d",
   "metadata": {},
   "outputs": [
    {
     "data": {
      "text/plain": [
       "[(1, 'Laptop', Decimal('999.99'), 50),\n",
       " (2, 'Smartphone', Decimal('499.99'), 100)]"
      ]
     },
     "execution_count": 7,
     "metadata": {},
     "output_type": "execute_result"
    }
   ],
   "source": [
    "mydb=data.cursor()\n",
    "\n",
    "mydb.execute(\"select * from Products limit 2\")\n",
    "res=mydb.fetchall()\n",
    "res"
   ]
  },
  {
   "cell_type": "code",
   "execution_count": 8,
   "id": "2aa5a299",
   "metadata": {},
   "outputs": [
    {
     "data": {
      "text/plain": [
       "(3, 'Camera', Decimal('10000.00'), 80)"
      ]
     },
     "execution_count": 8,
     "metadata": {},
     "output_type": "execute_result"
    }
   ],
   "source": [
    "mydb=data.cursor()\n",
    "mydb.execute(\"select * from Products limit 1 offset 2\")\n",
    "res=mydb.fetchone()\n",
    "res"
   ]
  },
  {
   "cell_type": "markdown",
   "id": "d40a9987",
   "metadata": {},
   "source": [
    "# oreders table"
   ]
  },
  {
   "cell_type": "code",
   "execution_count": 2,
   "id": "b06a1fe4",
   "metadata": {},
   "outputs": [],
   "source": [
    "import mysql.connector"
   ]
  },
  {
   "cell_type": "code",
   "execution_count": 3,
   "id": "eb797a8c",
   "metadata": {},
   "outputs": [
    {
     "name": "stdout",
     "output_type": "stream",
     "text": [
      "<mysql.connector.connection_cext.CMySQLConnection object at 0x00000148D0284690>\n"
     ]
    }
   ],
   "source": [
    "data=mysql.connector.connect(\n",
    "        host=\"localhost\",\n",
    "        user=\"root\",\n",
    "        password='14302@Omkar',\n",
    "        database='Onlinestore')\n",
    "print(data)"
   ]
  },
  {
   "cell_type": "code",
   "execution_count": 4,
   "id": "56b0e863",
   "metadata": {},
   "outputs": [],
   "source": [
    "mydb=data.cursor()"
   ]
  },
  {
   "cell_type": "code",
   "execution_count": 19,
   "id": "e3c1da42",
   "metadata": {},
   "outputs": [],
   "source": [
    "mydb.execute(\"create table Orders(Order_id int primary key,Customer_id int,Order_date timestamp default current_timestamp)\")"
   ]
  },
  {
   "cell_type": "code",
   "execution_count": 20,
   "id": "d52b601e",
   "metadata": {},
   "outputs": [
    {
     "name": "stdout",
     "output_type": "stream",
     "text": [
      "('customers',)\n",
      "('orders',)\n",
      "('products',)\n"
     ]
    }
   ],
   "source": [
    "mydb.execute(\"show tables\")\n",
    "\n",
    "for x in mydb:\n",
    "    print(x)"
   ]
  },
  {
   "cell_type": "code",
   "execution_count": 24,
   "id": "2e48d0eb",
   "metadata": {},
   "outputs": [
    {
     "name": "stdout",
     "output_type": "stream",
     "text": [
      "3 rows inserted\n"
     ]
    }
   ],
   "source": [
    "sql=\"insert into Orders(Order_id,Customer_id,Order_date)values(%s,%s,%s)\"\n",
    "val=[\n",
    "     (147,1,'2023-01-15 08:30:00'),\n",
    "     (4253,2,'2022-02-10 09:30:00'),\n",
    "     (5362,3,'2021-05-20 06:40:00')\n",
    "]\n",
    "mydb.executemany(sql,val)\n",
    "data.commit()\n",
    "print(mydb.rowcount,\"rows inserted\")"
   ]
  },
  {
   "cell_type": "code",
   "execution_count": 25,
   "id": "f9f9722e",
   "metadata": {},
   "outputs": [
    {
     "name": "stdout",
     "output_type": "stream",
     "text": [
      "(147, 1, datetime.datetime(2023, 1, 15, 8, 30))\n",
      "(4253, 2, datetime.datetime(2022, 2, 10, 9, 30))\n",
      "(5362, 3, datetime.datetime(2021, 5, 20, 6, 40))\n"
     ]
    }
   ],
   "source": [
    "mydb.execute(\"select * from Orders\")\n",
    "a=mydb.fetchall()  #fetchall() is used to get the all records from table\n",
    "\n",
    "for x in a:\n",
    "    print(x)"
   ]
  },
  {
   "cell_type": "code",
   "execution_count": 26,
   "id": "b5c5089b",
   "metadata": {},
   "outputs": [
    {
     "data": {
      "text/plain": [
       "(147, 1, datetime.datetime(2023, 1, 15, 8, 30))"
      ]
     },
     "execution_count": 26,
     "metadata": {},
     "output_type": "execute_result"
    }
   ],
   "source": [
    "mydb.execute(\"select * from Orders\")\n",
    "\n",
    "a=mydb.fetchone()  #fetchone() is used to get the one record from table\n",
    "a"
   ]
  },
  {
   "cell_type": "code",
   "execution_count": 5,
   "id": "b066e443",
   "metadata": {},
   "outputs": [
    {
     "name": "stdout",
     "output_type": "stream",
     "text": [
      "(147, 1, datetime.datetime(2023, 1, 15, 8, 30))\n"
     ]
    }
   ],
   "source": [
    "mydb=data.cursor()\n",
    "mydb.execute('select * from Orders where Order_id=147 ')\n",
    "res=mydb.fetchall()\n",
    "\n",
    "for x in res:\n",
    "    print(x)"
   ]
  },
  {
   "cell_type": "code",
   "execution_count": 6,
   "id": "6943289e",
   "metadata": {},
   "outputs": [
    {
     "name": "stdout",
     "output_type": "stream",
     "text": [
      "1 records updated\n"
     ]
    }
   ],
   "source": [
    "mydb=data.cursor()\n",
    "mydb.execute(\"update Orders set Order_id=143 where Customer_id=1\")\n",
    "print(mydb.rowcount,\"records updated\")"
   ]
  },
  {
   "cell_type": "code",
   "execution_count": 7,
   "id": "3f12b1eb",
   "metadata": {},
   "outputs": [
    {
     "data": {
      "text/plain": [
       "[(143, 1, datetime.datetime(2023, 1, 15, 8, 30)),\n",
       " (4253, 2, datetime.datetime(2022, 2, 10, 9, 30)),\n",
       " (5362, 3, datetime.datetime(2021, 5, 20, 6, 40))]"
      ]
     },
     "execution_count": 7,
     "metadata": {},
     "output_type": "execute_result"
    }
   ],
   "source": [
    "mydb=data.cursor()\n",
    "mydb.execute(\"select * from Orders limit 3\")\n",
    "res=mydb.fetchall()\n",
    "res"
   ]
  },
  {
   "cell_type": "code",
   "execution_count": 8,
   "id": "6ac72c52",
   "metadata": {},
   "outputs": [
    {
     "data": {
      "text/plain": [
       "[(5362, 3, datetime.datetime(2021, 5, 20, 6, 40))]"
      ]
     },
     "execution_count": 8,
     "metadata": {},
     "output_type": "execute_result"
    }
   ],
   "source": [
    "mydb=data.cursor()\n",
    "mydb.execute(\"select * from Orders limit 1 offset 2\")\n",
    "res=mydb.fetchall()\n",
    "res"
   ]
  },
  {
   "cell_type": "markdown",
   "id": "f1d63248",
   "metadata": {},
   "source": [
    "# payments"
   ]
  },
  {
   "cell_type": "code",
   "execution_count": 2,
   "id": "a3d309af",
   "metadata": {},
   "outputs": [],
   "source": [
    "import mysql.connector"
   ]
  },
  {
   "cell_type": "code",
   "execution_count": 3,
   "id": "8f43b033",
   "metadata": {},
   "outputs": [
    {
     "name": "stdout",
     "output_type": "stream",
     "text": [
      "<mysql.connector.connection_cext.CMySQLConnection object at 0x0000020AF7557E90>\n"
     ]
    }
   ],
   "source": [
    "data=mysql.connector.connect(\n",
    "        host=\"localhost\",\n",
    "        user=\"root\",\n",
    "        password='14302@Omkar',\n",
    "        database='Onlinestore')\n",
    "print(data)"
   ]
  },
  {
   "cell_type": "code",
   "execution_count": 4,
   "id": "0af91e8e",
   "metadata": {},
   "outputs": [],
   "source": [
    "mydb=data.cursor()"
   ]
  },
  {
   "cell_type": "code",
   "execution_count": 12,
   "id": "0df42c8f",
   "metadata": {},
   "outputs": [],
   "source": [
    "mydb.execute (\"create table Payments(Payment_id int primary key,P_order_id int,Payment_date timestamp default current_timestamp)\")"
   ]
  },
  {
   "cell_type": "code",
   "execution_count": 13,
   "id": "da3a311c",
   "metadata": {},
   "outputs": [
    {
     "name": "stdout",
     "output_type": "stream",
     "text": [
      "('customers',)\n",
      "('orders',)\n",
      "('payments',)\n",
      "('products',)\n"
     ]
    }
   ],
   "source": [
    "mydb.execute(\"show tables\")\n",
    "\n",
    "for x in mydb:\n",
    "    print(x)"
   ]
  },
  {
   "cell_type": "code",
   "execution_count": 14,
   "id": "19d8a434",
   "metadata": {},
   "outputs": [
    {
     "name": "stdout",
     "output_type": "stream",
     "text": [
      "3 rows inserted\n"
     ]
    }
   ],
   "source": [
    "sql=\"insert into Payments(Payment_id,P_order_id,Payment_date)values(%s,%s,%s)\"\n",
    "val=[\n",
    "     (15356,147,'2023-01-15 08:30:00'),\n",
    "     (436748,4253,'2022-02-10 09:30:00'),\n",
    "     (68595,5362,'2021-05-20 06:40:00')\n",
    "]\n",
    "mydb.executemany(sql,val)\n",
    "data.commit()\n",
    "print(mydb.rowcount,\"rows inserted\")"
   ]
  },
  {
   "cell_type": "code",
   "execution_count": 15,
   "id": "9d43105c",
   "metadata": {},
   "outputs": [
    {
     "name": "stdout",
     "output_type": "stream",
     "text": [
      "(15356, 147, datetime.datetime(2023, 1, 15, 8, 30))\n",
      "(68595, 5362, datetime.datetime(2021, 5, 20, 6, 40))\n",
      "(436748, 4253, datetime.datetime(2022, 2, 10, 9, 30))\n"
     ]
    }
   ],
   "source": [
    "mydb.execute(\"select * from Payments\")\n",
    "a=mydb.fetchall()  #fetchall() is used to get the all records from table\n",
    "\n",
    "for x in a:\n",
    "    print(x)"
   ]
  },
  {
   "cell_type": "code",
   "execution_count": 16,
   "id": "071ff5db",
   "metadata": {},
   "outputs": [
    {
     "data": {
      "text/plain": [
       "(15356, 147, datetime.datetime(2023, 1, 15, 8, 30))"
      ]
     },
     "execution_count": 16,
     "metadata": {},
     "output_type": "execute_result"
    }
   ],
   "source": [
    "mydb.execute(\"select * from Payments\")\n",
    "\n",
    "a=mydb.fetchone()  #fetchone() is used to get the one record from table\n",
    "a"
   ]
  },
  {
   "cell_type": "code",
   "execution_count": 5,
   "id": "9f77b661",
   "metadata": {},
   "outputs": [
    {
     "name": "stdout",
     "output_type": "stream",
     "text": [
      "(15356, 147, datetime.datetime(2023, 1, 15, 8, 30))\n"
     ]
    }
   ],
   "source": [
    "mydb=data.cursor()\n",
    "mydb.execute('select * from Payments where P_order_id=147')\n",
    "res=mydb.fetchall()\n",
    "\n",
    "for x in res:\n",
    "    print(x)"
   ]
  },
  {
   "cell_type": "code",
   "execution_count": 6,
   "id": "873959fa",
   "metadata": {},
   "outputs": [
    {
     "name": "stdout",
     "output_type": "stream",
     "text": [
      "1 records updated\n"
     ]
    }
   ],
   "source": [
    "mydb=data.cursor()\n",
    "mydb.execute('update Payments set P_order_id=143 where Payment_id=15356')\n",
    "print(mydb.rowcount,\"records updated\")"
   ]
  },
  {
   "cell_type": "code",
   "execution_count": 7,
   "id": "4c383319",
   "metadata": {},
   "outputs": [
    {
     "data": {
      "text/plain": [
       "[(15356, 143, datetime.datetime(2023, 1, 15, 8, 30)),\n",
       " (68595, 5362, datetime.datetime(2021, 5, 20, 6, 40)),\n",
       " (436748, 4253, datetime.datetime(2022, 2, 10, 9, 30))]"
      ]
     },
     "execution_count": 7,
     "metadata": {},
     "output_type": "execute_result"
    }
   ],
   "source": [
    "mydb=data.cursor()\n",
    "\n",
    "mydb.execute(\"select * from Payments limit 3\")\n",
    "res=mydb.fetchall()\n",
    "res"
   ]
  },
  {
   "cell_type": "code",
   "execution_count": 8,
   "id": "59b53a9d",
   "metadata": {},
   "outputs": [
    {
     "data": {
      "text/plain": [
       "[(436748, 4253, datetime.datetime(2022, 2, 10, 9, 30))]"
      ]
     },
     "execution_count": 8,
     "metadata": {},
     "output_type": "execute_result"
    }
   ],
   "source": [
    "mydb=data.cursor()\n",
    "\n",
    "mydb.execute(\"select * from Payments limit 1 offset 2\")\n",
    "res=mydb.fetchall()\n",
    "res"
   ]
  },
  {
   "cell_type": "code",
   "execution_count": null,
   "id": "e173bcc0",
   "metadata": {},
   "outputs": [],
   "source": []
  }
 ],
 "metadata": {
  "kernelspec": {
   "display_name": "Python 3 (ipykernel)",
   "language": "python",
   "name": "python3"
  },
  "language_info": {
   "codemirror_mode": {
    "name": "ipython",
    "version": 3
   },
   "file_extension": ".py",
   "mimetype": "text/x-python",
   "name": "python",
   "nbconvert_exporter": "python",
   "pygments_lexer": "ipython3",
   "version": "3.11.5"
  }
 },
 "nbformat": 4,
 "nbformat_minor": 5
}
